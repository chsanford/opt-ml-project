{
 "cells": [
  {
   "cell_type": "code",
   "execution_count": 1,
   "metadata": {},
   "outputs": [],
   "source": [
    "import os\n",
    "import sys\n",
    "import pickle\n",
    "import matplotlib.pyplot as plt\n",
    "import numpy as np"
   ]
  },
  {
   "cell_type": "code",
   "execution_count": 30,
   "metadata": {},
   "outputs": [],
   "source": [
    "def load_logs(paths):\n",
    "    logs = []\n",
    "    \n",
    "    for i, fname in enumerate(paths):\n",
    "        with open(fname, 'rb') as f:\n",
    "            d = pickle.load(f)\n",
    "            logs.append(d)\n",
    "            print(f'[{i}] {d[\"name\"]}\\n{d[\"params\"]}')\n",
    "            \n",
    "    return logs"
   ]
  },
  {
   "cell_type": "code",
   "execution_count": 32,
   "metadata": {},
   "outputs": [],
   "source": [
    "def save_plot(fig, path):\n",
    "    fig.savefig(path)\n",
    "\n",
    "def make_ml_plot(ax, data, labels, ylim=None):\n",
    "    ax.margins(0)\n",
    "    ax.set_xlabel('epochs')\n",
    "    ax.set_ylabel('Training loss')\n",
    "    if ylim is not None:\n",
    "        ax.set_ylim(top=ylim) \n",
    "        \n",
    "    for i, d in enumerate(data):\n",
    "        ax.plot(d, label=labels[i])\n",
    "        \n",
    "    ax.legend()\n",
    "    return ax"
   ]
  },
  {
   "cell_type": "code",
   "execution_count": 33,
   "metadata": {},
   "outputs": [
    {
     "data": {
      "image/png": "[encoded data removed]",
      "text/plain": [
       "<Figure size 432x288 with 1 Axes>"
      ]
     },
     "metadata": {
      "needs_background": "light"
     },
     "output_type": "display_data"
    }
   ],
   "source": [
    "# An example\n",
    "data = []\n",
    "data.append(np.linspace(0, 10, 20))\n",
    "data.append(np.linspace(0, 2, 50))\n",
    "fig, ax = plt.subplots()\n",
    "make_ml_plot(ax, data, labels=['1', '2'], ylim=5)\n",
    "plt.show()"
   ]
  },
  {
   "cell_type": "code",
   "execution_count": null,
   "metadata": {},
   "outputs": [],
   "source": []
  }
 ],
 "metadata": {
  "kernelspec": {
   "display_name": "Python 3",
   "language": "python",
   "name": "python3"
  },
  "language_info": {
   "codemirror_mode": {
    "name": "ipython",
    "version": 3
   },
   "file_extension": ".py",
   "mimetype": "text/x-python",
   "name": "python",
   "nbconvert_exporter": "python",
   "pygments_lexer": "ipython3",
   "version": "3.7.1"
  }
 },
 "nbformat": 4,
 "nbformat_minor": 2
}
